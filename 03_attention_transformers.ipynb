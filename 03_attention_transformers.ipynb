{
  "nbformat": 4,
  "nbformat_minor": 0,
  "metadata": {
    "colab": {
      "provenance": [],
      "authorship_tag": "ABX9TyNWJFjEgCjX7U93USpFjCSl",
      "include_colab_link": true
    },
    "kernelspec": {
      "name": "python3",
      "display_name": "Python 3"
    },
    "language_info": {
      "name": "python"
    }
  },
  "cells": [
    {
      "cell_type": "markdown",
      "metadata": {
        "id": "view-in-github",
        "colab_type": "text"
      },
      "source": [
        "<a href=\"https://colab.research.google.com/github/a-mhamdi/nlp-unraveled/blob/main/03_attention_transformers.ipynb\" target=\"_parent\"><img src=\"https://colab.research.google.com/assets/colab-badge.svg\" alt=\"Open In Colab\"/></a>"
      ]
    },
    {
      "cell_type": "markdown",
      "source": [
        "# Attention Mechanisms and Advanced Architectures\n"
      ],
      "metadata": {
        "id": "eg966paXWOH4"
      }
    },
    {
      "cell_type": "markdown",
      "source": [
        "## Attention mechanisms\n"
      ],
      "metadata": {
        "id": "I8GIXxZqWO1E"
      }
    },
    {
      "cell_type": "markdown",
      "source": [
        "## Transformer architecture basics\n"
      ],
      "metadata": {
        "id": "OixXtHbHWO-D"
      }
    },
    {
      "cell_type": "markdown",
      "source": [
        "## Self-attention\n"
      ],
      "metadata": {
        "id": "k7uaFhz9WPHA"
      }
    },
    {
      "cell_type": "markdown",
      "source": [
        "## Multi-head attention"
      ],
      "metadata": {
        "id": "PfcPc8nKWPUu"
      }
    }
  ]
}