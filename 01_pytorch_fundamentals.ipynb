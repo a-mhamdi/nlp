{
  "nbformat": 4,
  "nbformat_minor": 0,
  "metadata": {
    "colab": {
      "provenance": [],
      "authorship_tag": "ABX9TyOsCpGMcyHHcc2mb3Uku7hx",
      "include_colab_link": true
    },
    "kernelspec": {
      "name": "python3",
      "display_name": "Python 3"
    },
    "language_info": {
      "name": "python"
    }
  },
  "cells": [
    {
      "cell_type": "markdown",
      "metadata": {
        "id": "view-in-github",
        "colab_type": "text"
      },
      "source": [
        "<a href=\"https://colab.research.google.com/github/a-mhamdi/nlp-unraveled/blob/main/01_pytorch_fundamentals.ipynb\" target=\"_parent\"><img src=\"https://colab.research.google.com/assets/colab-badge.svg\" alt=\"Open In Colab\"/></a>"
      ]
    },
    {
      "cell_type": "markdown",
      "source": [
        "# Fundamentals and Basic Neural Networks\n",
        "---"
      ],
      "metadata": {
        "id": "UyfVRbrMUZQN"
      }
    },
    {
      "cell_type": "markdown",
      "source": [
        "**Outlines**\n",
        "1. [Introduction To PyTorch](#intro)\n",
        "1. [Basic Neural Network Architectures](#nn-arch)\n",
        "1. [Tensor Operation](#tensor-ops)\n",
        "1. [Autograd and Gradient Computation](#grad)\n",
        "1. [Simple Classification Tasks](#tasks)"
      ],
      "metadata": {
        "id": "W9w-bjaZgqZd"
      }
    },
    {
      "cell_type": "markdown",
      "source": [
        "## Introduction to PyTorch <a name=\"intro\"></a>\n"
      ],
      "metadata": {
        "id": "UvIX6opYUDEN"
      }
    },
    {
      "cell_type": "markdown",
      "source": [
        "## Basic Neural Network Architectures <a name=\"nn-arch\"></a>\n"
      ],
      "metadata": {
        "id": "oloHz0sfUMmC"
      }
    },
    {
      "cell_type": "markdown",
      "source": [
        "## Tensor Operations <a name=\"tensor-ops\"></a>\n"
      ],
      "metadata": {
        "id": "Y5YiZ04TUOic"
      }
    },
    {
      "cell_type": "markdown",
      "source": [
        "## Autograd and Gradient Computation <a name=\"grad\"></a>"
      ],
      "metadata": {
        "id": "5SMAhd21UQJR"
      }
    },
    {
      "cell_type": "markdown",
      "source": [
        "## Simple Classification Tasks <a name=\"tasks\"></a>"
      ],
      "metadata": {
        "id": "Flmh1qToUeXn"
      }
    }
  ]
}