{
  "cells": [
    {
      "cell_type": "markdown",
      "metadata": {
        "id": "view-in-github",
        "colab_type": "text"
      },
      "source": [
        "<a href=\"https://colab.research.google.com/github/a-mhamdi/deep_learning_nlp/blob/main/01_pytorch_fundamentals.ipynb\" target=\"_parent\"><img src=\"https://colab.research.google.com/assets/colab-badge.svg\" alt=\"Open In Colab\"/></a>"
      ]
    },
    {
      "cell_type": "markdown",
      "metadata": {
        "id": "UyfVRbrMUZQN"
      },
      "source": [
        "# Fundamentals and Basic Neural Networks\n",
        "---"
      ]
    },
    {
      "cell_type": "markdown",
      "metadata": {
        "id": "W9w-bjaZgqZd"
      },
      "source": [
        "**Outlines**\n",
        "1. [Introduction to `PyTorch`](#intro)\n",
        "1. [Tensor operation](#tensor-ops)\n",
        "1. [Autograd and gradient computation](#grad)\n",
        "1. [Basic neural network architectures](#nn-arch)"
      ]
    },
    {
      "cell_type": "markdown",
      "metadata": {
        "id": "UvIX6opYUDEN"
      },
      "source": [
        "## Introduction to `PyTorch` <a name=\"intro\"></a>\n"
      ]
    },
    {
      "cell_type": "markdown",
      "source": [
        "PyTorch is a modern deep learning framework:\n",
        "\n",
        "* Developed by Facebook's AI Research lab (**FAIR**) in 2016 and released as open-source software [1]\n",
        "* Features dynamic computational graph (eager execution by default), contrasting with TensorFlow's traditional static approach [2]\n",
        "* Pythonic design philosophy prioritizes code readability and seamless integration with Python's data science ecosystem [3]\n",
        "* Gained significant adoption in both academic and industrial research settings [4]\n",
        "* Excels in research environments due to exceptional flexibility and intuitive debugging capabilities\n",
        "* Offers native support for GPU acceleration with minimal configuration required\n",
        "* Comprehensive documentation and vibrant community have contributed to its rapid growth in popularity\n",
        "* Recent integration with ONNX (Open Neural Network Exchange) improves cross-framework compatibility [5]\n",
        "---\n",
        "1. Paszke, A., et al. (2019). PyTorch: An Imperative Style, High-Performance Deep Learning Library [(see paper)](https://arxiv.org/abs/1912.01703). \\\n",
        "1. Stevens, E., et al. (2020). Deep Learning with PyTorch. \\\n",
        "1. Ketkar, N. (2021). Deep Learning with Python: A Hands-on Introduction. \\\n",
        "1. He, K., et al. (2019). Deep Residual Learning for Image  [(see paper)](https://arxiv.org/abs/1512.03385). \\\n",
        "1. Howard, J., & Gugger, S. (2020). Deep Learning for Coders with Fastai and PyTorch [(see ebook)](https://dl.ebooksworld.ir/books/Deep.Learning.for.Coders.with.fastai.and.PyTorch.Howard.Gugger.OReilly.9781492045526.EBooksWorld.ir.pdf)."
      ],
      "metadata": {
        "id": "lIixhBMZfctM"
      }
    },
    {
      "cell_type": "markdown",
      "metadata": {
        "id": "ANd0eTaJ7IVk"
      },
      "source": [
        "## Tensor operations <a name=\"tensor-ops\"></a>\n"
      ]
    },
    {
      "cell_type": "code",
      "source": [
        "import torch"
      ],
      "metadata": {
        "id": "WQNbKPspgAe6"
      },
      "execution_count": 1,
      "outputs": []
    },
    {
      "cell_type": "markdown",
      "source": [
        "### Creating tensors"
      ],
      "metadata": {
        "id": "tUc_7LVriSPh"
      }
    },
    {
      "cell_type": "code",
      "source": [
        "x = torch.tensor([1, 2, 3])\n",
        "y = torch.tensor([4, 5, 6])\n",
        "print(f\"x: {x}\")\n",
        "print(f\"y: {y}\")"
      ],
      "metadata": {
        "id": "bNMZy9u9iVJ4",
        "outputId": "73b77b59-af7c-4f5c-9438-a7450333673c",
        "colab": {
          "base_uri": "https://localhost:8080/"
        }
      },
      "execution_count": 2,
      "outputs": [
        {
          "output_type": "stream",
          "name": "stdout",
          "text": [
            "x: tensor([1, 2, 3])\n",
            "y: tensor([4, 5, 6])\n"
          ]
        }
      ]
    },
    {
      "cell_type": "markdown",
      "source": [
        "### Basic arithmetic operations"
      ],
      "metadata": {
        "id": "cjCmPyYliYB1"
      }
    },
    {
      "cell_type": "code",
      "source": [
        "print(f\"Addition: {x + y}\")         # Element-wise addition\n",
        "print(f\"Subtraction: {x - y}\")      # Element-wise subtraction\n",
        "print(f\"Multiplication: {x * y}\")   # Element-wise multiplication\n",
        "print(f\"Division: {x / y}\\n\")       # Element-wise division"
      ],
      "metadata": {
        "id": "UeFSd2o7Sz2H",
        "outputId": "5429f51c-17a8-43af-ff0a-fcd7066fc283",
        "colab": {
          "base_uri": "https://localhost:8080/"
        }
      },
      "execution_count": 3,
      "outputs": [
        {
          "output_type": "stream",
          "name": "stdout",
          "text": [
            "Addition: tensor([5, 7, 9])\n",
            "Subtraction: tensor([-3, -3, -3])\n",
            "Multiplication: tensor([ 4, 10, 18])\n",
            "Division: tensor([0.2500, 0.4000, 0.5000])\n",
            "\n"
          ]
        }
      ]
    },
    {
      "cell_type": "markdown",
      "source": [
        "### Operations and Transformations"
      ],
      "metadata": {
        "id": "vmojex3AicMw"
      }
    },
    {
      "cell_type": "markdown",
      "source": [
        "#### Create 2D tensors"
      ],
      "metadata": {
        "id": "eM3bX28eic7R"
      }
    },
    {
      "cell_type": "code",
      "source": [
        "matrix1 = torch.tensor([[1, 2], [3, 4]])\n",
        "matrix2 = torch.tensor([[5, 6], [7, 8]])\n",
        "print(f\"Matrix1:\\n{matrix1}\")\n",
        "print(f\"Matrix2:\\n{matrix2}\")"
      ],
      "metadata": {
        "id": "F2-GKJEwS6Wt",
        "outputId": "df948531-d97b-4b81-d4cc-0694c0ce340b",
        "colab": {
          "base_uri": "https://localhost:8080/"
        }
      },
      "execution_count": 4,
      "outputs": [
        {
          "output_type": "stream",
          "name": "stdout",
          "text": [
            "Matrix1:\n",
            "tensor([[1, 2],\n",
            "        [3, 4]])\n",
            "Matrix2:\n",
            "tensor([[5, 6],\n",
            "        [7, 8]])\n"
          ]
        }
      ]
    },
    {
      "cell_type": "markdown",
      "source": [
        "#### Matrix multiplication"
      ],
      "metadata": {
        "id": "mS15Dp5Yibjz"
      }
    },
    {
      "cell_type": "code",
      "source": [
        "print(f\"Matrix multiplication:\\n{torch.matmul(matrix1, matrix2)}\")"
      ],
      "metadata": {
        "id": "fv6fmNSJS7a7",
        "outputId": "aecaa6d2-c78c-4e09-a10d-fa3f677b5ae6",
        "colab": {
          "base_uri": "https://localhost:8080/"
        }
      },
      "execution_count": 5,
      "outputs": [
        {
          "output_type": "stream",
          "name": "stdout",
          "text": [
            "Matrix multiplication:\n",
            "tensor([[19, 22],\n",
            "        [43, 50]])\n"
          ]
        }
      ]
    },
    {
      "cell_type": "markdown",
      "source": [
        "#### Statistical operations"
      ],
      "metadata": {
        "id": "n0vYlOyliavA"
      }
    },
    {
      "cell_type": "code",
      "source": [
        "data = torch.tensor([1, 2, 3, 4, 5], dtype=torch.float32)\n",
        "print(f\"Mean: {data.mean()}\")\n",
        "print(f\"Sum: {data.sum()}\")\n",
        "print(f\"Maximum: {data.max()}\")\n",
        "print(f\"Minimum: {data.min()}\")\n",
        "print(f\"Standard deviation: {data.std()}\")"
      ],
      "metadata": {
        "id": "MUsYoMjHi7k7",
        "outputId": "40490f36-91e6-4b1e-9023-ad663c961441",
        "colab": {
          "base_uri": "https://localhost:8080/"
        }
      },
      "execution_count": 6,
      "outputs": [
        {
          "output_type": "stream",
          "name": "stdout",
          "text": [
            "Mean: 3.0\n",
            "Sum: 15.0\n",
            "Maximum: 5.0\n",
            "Minimum: 1.0\n",
            "Standard deviation: 1.5811388492584229\n"
          ]
        }
      ]
    },
    {
      "cell_type": "markdown",
      "source": [
        "#### Reshaping operations"
      ],
      "metadata": {
        "id": "mFN_l7TCiZ2X"
      }
    },
    {
      "cell_type": "code",
      "source": [
        "z = torch.tensor([1, 2, 3, 4, 5, 6])\n",
        "print(f\"Original tensor: {z}\")\n",
        "print(f\"Reshaped to 2x3:\\n{z.reshape(2, 3)}\")\n",
        "print(f\"Reshaped to 3x2:\\n{z.reshape(3, 2)}\")"
      ],
      "metadata": {
        "id": "4hOIGgYhTChF",
        "outputId": "55cc13fe-0a5e-4a35-8da4-2dab24da4f96",
        "colab": {
          "base_uri": "https://localhost:8080/"
        }
      },
      "execution_count": 7,
      "outputs": [
        {
          "output_type": "stream",
          "name": "stdout",
          "text": [
            "Original tensor: tensor([1, 2, 3, 4, 5, 6])\n",
            "Reshaped to 2x3:\n",
            "tensor([[1, 2, 3],\n",
            "        [4, 5, 6]])\n",
            "Reshaped to 3x2:\n",
            "tensor([[1, 2],\n",
            "        [3, 4],\n",
            "        [5, 6]])\n"
          ]
        }
      ]
    },
    {
      "cell_type": "markdown",
      "source": [
        "### GPU Support demonstration"
      ],
      "metadata": {
        "id": "7CgVHI1piZM2"
      }
    },
    {
      "cell_type": "code",
      "source": [
        "print(\"GPU Support:\")\n",
        "device = \"cuda\" if torch.cuda.is_available() else \"cpu\"\n",
        "print(f\"Using device: {device}\")\n",
        "gpu_tensor = x.to(device)\n",
        "print(f\"Tensor on {device}: {gpu_tensor}\") # will run on CPU if CUDA not available"
      ],
      "metadata": {
        "id": "3z5C7_cNi6UV",
        "outputId": "fa9a2dc9-1a3a-48f0-f6c5-51598d7b2889",
        "colab": {
          "base_uri": "https://localhost:8080/"
        }
      },
      "execution_count": 8,
      "outputs": [
        {
          "output_type": "stream",
          "name": "stdout",
          "text": [
            "GPU Support:\n",
            "Using device: cuda\n",
            "Tensor on cuda: tensor([1, 2, 3], device='cuda:0')\n"
          ]
        }
      ]
    },
    {
      "cell_type": "markdown",
      "source": [
        "## Autograd and gradient computation <a name=\"grad\"></a>"
      ],
      "metadata": {
        "id": "CAfZXB3ZWsrP"
      }
    },
    {
      "cell_type": "markdown",
      "source": [
        "\n",
        "### Basic autograd example"
      ],
      "metadata": {
        "id": "OuIduqsXYG52"
      }
    },
    {
      "cell_type": "code",
      "source": [
        "x = torch.tensor([2.0], requires_grad=True)\n",
        "y = torch.tensor([3.0], requires_grad=True)"
      ],
      "metadata": {
        "id": "Ul5o0pL7gl0z"
      },
      "execution_count": 9,
      "outputs": []
    },
    {
      "cell_type": "code",
      "source": [
        "# Create a computation graph\n",
        "z = x**2 + 2*y + 1"
      ],
      "metadata": {
        "id": "B2Lmh2-kXADT"
      },
      "execution_count": 10,
      "outputs": []
    },
    {
      "cell_type": "code",
      "source": [
        "# Compute gradients\n",
        "z.backward()\n",
        "\n",
        "print(f\"x = {x.item()}, y = {y.item()}, z = {z.item()}\")\n",
        "print(f\"dz/dx = {x.grad.item()}\")     # Should be 2x = 4\n",
        "print(f\"dz/dy = {y.grad.item()}\\n\")   # Should be 2\n"
      ],
      "metadata": {
        "id": "iJYQ78cEXQc_",
        "outputId": "225d6e66-b4a4-41bb-da1f-b407e9836ce2",
        "colab": {
          "base_uri": "https://localhost:8080/"
        }
      },
      "execution_count": 11,
      "outputs": [
        {
          "output_type": "stream",
          "name": "stdout",
          "text": [
            "x = 2.0, y = 3.0, z = 11.0\n",
            "dz/dx = 4.0\n",
            "dz/dy = 2.0\n",
            "\n"
          ]
        }
      ]
    },
    {
      "cell_type": "markdown",
      "source": [
        "\n",
        "### Gradient computation with vector inputs"
      ],
      "metadata": {
        "id": "QdFNBoTVXTjK"
      }
    },
    {
      "cell_type": "code",
      "source": [
        "# Reset gradients\n",
        "x = torch.tensor([1.0, 2.0, 3.0], requires_grad=True)\n",
        "y = torch.tensor([4.0, 5.0, 6.0], requires_grad=True)\n"
      ],
      "metadata": {
        "id": "HKMLb3T0XPif"
      },
      "execution_count": 12,
      "outputs": []
    },
    {
      "cell_type": "code",
      "source": [
        "# Vector operations\n",
        "z = x**2 + y**2"
      ],
      "metadata": {
        "id": "RhYLHbEcXOe6"
      },
      "execution_count": 13,
      "outputs": []
    },
    {
      "cell_type": "code",
      "source": [
        "# For vector output, need to sum to get scalar\n",
        "total = z.sum()\n",
        "total.backward()\n",
        "\n",
        "print(f\"x = {x}\")\n",
        "print(f\"y = {y}\")\n",
        "print(f\"z = {z}\")\n",
        "print(f\"Gradients for x: {x.grad}\")     # Should be 2x\n",
        "print(f\"Gradients for y: {y.grad}\\n\")   # Should be 2y"
      ],
      "metadata": {
        "id": "1rtAiViwXNyR",
        "outputId": "6c0e0517-6782-4b0f-afc5-23e3b9f57627",
        "colab": {
          "base_uri": "https://localhost:8080/"
        }
      },
      "execution_count": 14,
      "outputs": [
        {
          "output_type": "stream",
          "name": "stdout",
          "text": [
            "x = tensor([1., 2., 3.], requires_grad=True)\n",
            "y = tensor([4., 5., 6.], requires_grad=True)\n",
            "z = tensor([17., 29., 45.], grad_fn=<AddBackward0>)\n",
            "Gradients for x: tensor([2., 4., 6.])\n",
            "Gradients for y: tensor([ 8., 10., 12.])\n",
            "\n"
          ]
        }
      ]
    },
    {
      "cell_type": "markdown",
      "source": [
        "### Gradient accumulation and reset"
      ],
      "metadata": {
        "id": "lQhTuRbOXff7"
      }
    },
    {
      "cell_type": "code",
      "source": [
        "x = torch.tensor([1.0], requires_grad=True)"
      ],
      "metadata": {
        "id": "5waBUbBlXMMc"
      },
      "execution_count": 15,
      "outputs": []
    },
    {
      "cell_type": "code",
      "source": [
        "# First backward pass\n",
        "y = x**2\n",
        "y.backward()\n",
        "print(f\"First gradient: {x.grad.item()}\")\n"
      ],
      "metadata": {
        "id": "9amuVqWvXLtV",
        "outputId": "082700b6-4560-47d0-f053-7fe021cbc431",
        "colab": {
          "base_uri": "https://localhost:8080/"
        }
      },
      "execution_count": 16,
      "outputs": [
        {
          "output_type": "stream",
          "name": "stdout",
          "text": [
            "First gradient: 2.0\n"
          ]
        }
      ]
    },
    {
      "cell_type": "code",
      "source": [
        "# Gradients accumulate by default\n",
        "y = x**2\n",
        "y.backward()\n",
        "print(f\"Accumulated gradient (should be doubled): {x.grad.item()}\")\n"
      ],
      "metadata": {
        "id": "SHuBYtXQXLGy",
        "outputId": "a4ae199d-9b82-4f83-afae-cfc3932960e4",
        "colab": {
          "base_uri": "https://localhost:8080/"
        }
      },
      "execution_count": 17,
      "outputs": [
        {
          "output_type": "stream",
          "name": "stdout",
          "text": [
            "Accumulated gradient (should be doubled): 4.0\n"
          ]
        }
      ]
    },
    {
      "cell_type": "code",
      "source": [
        "# Reset gradients\n",
        "x.grad.zero_()\n",
        "y = x**2\n",
        "y.backward()\n",
        "print(f\"After reset: {x.grad.item()}\")"
      ],
      "metadata": {
        "id": "xQsExJmvXKrH",
        "outputId": "ee8d8622-d2af-40fd-a003-03633b490250",
        "colab": {
          "base_uri": "https://localhost:8080/"
        }
      },
      "execution_count": 18,
      "outputs": [
        {
          "output_type": "stream",
          "name": "stdout",
          "text": [
            "After reset: 2.0\n"
          ]
        }
      ]
    },
    {
      "cell_type": "markdown",
      "source": [
        "### Preventing gradient tracking"
      ],
      "metadata": {
        "id": "LQ59tuLgXos4"
      }
    },
    {
      "cell_type": "code",
      "source": [
        "x = torch.tensor([2.0], requires_grad=True)"
      ],
      "metadata": {
        "id": "z03iCzowXKNG"
      },
      "execution_count": 19,
      "outputs": []
    },
    {
      "cell_type": "code",
      "source": [
        "# Using no_grad()\n",
        "x.grad = None  # Reset gradient\n",
        "with torch.no_grad():\n",
        "    y = x * 2\n",
        "    z = y * 3\n",
        "print(f\"Requires grad in no_grad(): {y.requires_grad}\\n\")"
      ],
      "metadata": {
        "id": "OWVe1PqFXFM9",
        "outputId": "6dd2aab7-a4b2-4e86-a276-3c3efbb68bcf",
        "colab": {
          "base_uri": "https://localhost:8080/"
        }
      },
      "execution_count": 20,
      "outputs": [
        {
          "output_type": "stream",
          "name": "stdout",
          "text": [
            "Requires grad in no_grad(): False\n",
            "\n"
          ]
        }
      ]
    },
    {
      "cell_type": "markdown",
      "source": [
        "\n",
        "### Computing higher-order gradients"
      ],
      "metadata": {
        "id": "3E9b2QsyXuao"
      }
    },
    {
      "cell_type": "code",
      "source": [
        "x = torch.tensor([2.0], requires_grad=True)"
      ],
      "metadata": {
        "id": "f1Oq_Ic5XGlI"
      },
      "execution_count": 21,
      "outputs": []
    },
    {
      "cell_type": "code",
      "source": [
        "y = x**3"
      ],
      "metadata": {
        "id": "98JIvkgldP74"
      },
      "execution_count": 22,
      "outputs": []
    },
    {
      "cell_type": "markdown",
      "source": [
        "#### First derivative"
      ],
      "metadata": {
        "id": "yMM-WMlec6KO"
      }
    },
    {
      "cell_type": "code",
      "source": [
        "first_derivative = torch.autograd.grad(y, x, create_graph=True)[0]\n",
        "print(f\"First derivative at x=2: {first_derivative.item()}\")"
      ],
      "metadata": {
        "id": "8Nv4hZvKXF8x",
        "outputId": "2bdc340a-bb64-4edb-f29b-98bc18e32344",
        "colab": {
          "base_uri": "https://localhost:8080/"
        }
      },
      "execution_count": 23,
      "outputs": [
        {
          "output_type": "stream",
          "name": "stdout",
          "text": [
            "First derivative at x=2: 12.0\n"
          ]
        }
      ]
    },
    {
      "cell_type": "markdown",
      "source": [
        "#### Second derivative"
      ],
      "metadata": {
        "id": "WbEtI8E2c8uI"
      }
    },
    {
      "cell_type": "code",
      "source": [
        "second_derivative = torch.autograd.grad(first_derivative, x)[0]\n",
        "print(f\"Second derivative at x=2: {second_derivative.item()}\")"
      ],
      "metadata": {
        "id": "zAN002-QXAzQ",
        "outputId": "a702bcc4-8cde-4722-886e-ca07f577777e",
        "colab": {
          "base_uri": "https://localhost:8080/"
        }
      },
      "execution_count": 24,
      "outputs": [
        {
          "output_type": "stream",
          "name": "stdout",
          "text": [
            "Second derivative at x=2: 12.0\n"
          ]
        }
      ]
    },
    {
      "cell_type": "markdown",
      "metadata": {
        "id": "oloHz0sfUMmC"
      },
      "source": [
        "## Basic neural network architectures <a name=\"nn-arch\"></a>\n"
      ]
    },
    {
      "cell_type": "code",
      "source": [
        "import torch\n",
        "import torch.nn as nn\n",
        "import torch.optim as optim\n",
        "import matplotlib.pyplot as plt"
      ],
      "metadata": {
        "id": "4WHQZ6QbgY4l"
      },
      "execution_count": 25,
      "outputs": []
    },
    {
      "cell_type": "markdown",
      "source": [
        "### Create synthetic dataset"
      ],
      "metadata": {
        "id": "5Jbohhq3V2nJ"
      }
    },
    {
      "cell_type": "code",
      "source": [
        "X = torch.linspace(-10, 10, 100).reshape(-1, 1)\n",
        "y = torch.sin(X) + torch.normal(0, 0.1, size=X.shape)"
      ],
      "metadata": {
        "id": "J5hBIbjkVNf4"
      },
      "execution_count": 26,
      "outputs": []
    },
    {
      "cell_type": "markdown",
      "source": [
        "### Define the neural network"
      ],
      "metadata": {
        "id": "DABVW04mV0Iy"
      }
    },
    {
      "cell_type": "code",
      "source": [
        "class Model(nn.Module):\n",
        "    def __init__(self):\n",
        "        super(Model, self).__init__()\n",
        "        self.layer1 = nn.Linear(1, 16)    # Input layer -> Hidden layer\n",
        "        self.activation1 = nn.ReLU()      # Activation function\n",
        "        self.layer2 = nn.Linear(16, 16)   # Hidden layer -> Hidden layer\n",
        "        self.activation2 = nn.ReLU()      # Activation function\n",
        "        self.layer3 = nn.Linear(16, 1)    # Hidden layer -> Output layer\n",
        "\n",
        "    def forward(self, x):\n",
        "        x = self.activation1(self.layer1(x))\n",
        "        x = self.activation2(self.layer2(x))\n",
        "        x = self.layer3(x)\n",
        "        return x"
      ],
      "metadata": {
        "id": "sUj4GHWgVRHn"
      },
      "execution_count": 27,
      "outputs": []
    },
    {
      "cell_type": "markdown",
      "source": [
        "### Initialize the model, loss function, and optimizer"
      ],
      "metadata": {
        "id": "Gs99GLmyVxVd"
      }
    },
    {
      "cell_type": "code",
      "source": [
        "model = Model()\n",
        "criterion = nn.MSELoss()\n",
        "optimizer = optim.Adam(model.parameters(), lr=0.01)"
      ],
      "metadata": {
        "id": "xpz2siN6VVXz"
      },
      "execution_count": 28,
      "outputs": []
    },
    {
      "cell_type": "markdown",
      "source": [
        "### Training loop"
      ],
      "metadata": {
        "id": "htZqhXFXVuH1"
      }
    },
    {
      "cell_type": "code",
      "source": [
        "num_epochs = 1000\n",
        "losses = []\n",
        "\n",
        "for epoch in range(num_epochs):\n",
        "    # Forward pass\n",
        "    outputs = model(X)\n",
        "    loss = criterion(outputs, y)\n",
        "    losses.append(loss.item())\n",
        "\n",
        "    # Backward pass and optimization\n",
        "    optimizer.zero_grad()\n",
        "    loss.backward()\n",
        "    optimizer.step()\n",
        "\n",
        "    # Print progress every 100 epochs\n",
        "    if (epoch + 1) % 100 == 0:\n",
        "        print(f'Epoch [{epoch+1}/{num_epochs}], Loss: {loss.item():.4f}')\n"
      ],
      "metadata": {
        "id": "s7SoihmgVgKl",
        "outputId": "5860f73c-f21a-4f4d-f21e-8a7532c6d9a2",
        "colab": {
          "base_uri": "https://localhost:8080/"
        }
      },
      "execution_count": 29,
      "outputs": [
        {
          "output_type": "stream",
          "name": "stdout",
          "text": [
            "Epoch [100/1000], Loss: 0.2148\n",
            "Epoch [200/1000], Loss: 0.1745\n",
            "Epoch [300/1000], Loss: 0.1490\n",
            "Epoch [400/1000], Loss: 0.1107\n",
            "Epoch [500/1000], Loss: 0.1023\n",
            "Epoch [600/1000], Loss: 0.1011\n",
            "Epoch [700/1000], Loss: 0.1007\n",
            "Epoch [800/1000], Loss: 0.1007\n",
            "Epoch [900/1000], Loss: 0.1004\n",
            "Epoch [1000/1000], Loss: 0.1005\n"
          ]
        }
      ]
    },
    {
      "cell_type": "markdown",
      "source": [
        "### Evaluate the model"
      ],
      "metadata": {
        "id": "BB7buv1AVp3k"
      }
    },
    {
      "cell_type": "code",
      "source": [
        "model.eval()\n",
        "with torch.no_grad():\n",
        "    predictions = model(X)"
      ],
      "metadata": {
        "id": "e8J1ii7uVbmK"
      },
      "execution_count": 30,
      "outputs": []
    },
    {
      "cell_type": "markdown",
      "source": [
        "### Plotting the results"
      ],
      "metadata": {
        "id": "AxmGJPQfV8Vy"
      }
    },
    {
      "cell_type": "code",
      "source": [
        "plt.figure(figsize=(10, 6))\n",
        "plt.scatter(X.numpy(), y.numpy(), label='Original Data', alpha=0.5)\n",
        "plt.plot(X.numpy(), predictions.numpy(), 'r', label='Predicted', linewidth=2)\n",
        "plt.xlabel('X')\n",
        "plt.ylabel('y')\n",
        "plt.title('Neural Network Regression')\n",
        "plt.legend()\n",
        "plt.grid(True)"
      ],
      "metadata": {
        "id": "Mb8Zl-pnVZbB",
        "outputId": "56bba436-ba82-426d-9188-e2f092ed9a2d",
        "colab": {
          "base_uri": "https://localhost:8080/",
          "height": 564
        }
      },
      "execution_count": 31,
      "outputs": [
        {
          "output_type": "display_data",
          "data": {
            "text/plain": [
              "<Figure size 1000x600 with 1 Axes>"
            ],
            "image/png": "[encoded data removed]"
          },
          "metadata": {}
        }
      ]
    },
    {
      "cell_type": "markdown",
      "source": [
        "### Example of using the trained model for prediction"
      ],
      "metadata": {
        "id": "4Wwr20eYV_qt"
      }
    },
    {
      "cell_type": "code",
      "source": [
        "test_input = torch.tensor([[2.0]])\n",
        "prediction = model(test_input)\n",
        "print(f\"Prediction for input {test_input.item()}: {prediction.item():.4f}\")"
      ],
      "metadata": {
        "id": "1lsvJnLsVYQd",
        "outputId": "21cf4a63-b201-44a8-ca09-3d9b271cec3a",
        "colab": {
          "base_uri": "https://localhost:8080/"
        }
      },
      "execution_count": 32,
      "outputs": [
        {
          "output_type": "stream",
          "name": "stdout",
          "text": [
            "Prediction for input 2.0: 1.0336\n"
          ]
        }
      ]
    }
  ],
  "metadata": {
    "colab": {
      "provenance": [],
      "gpuType": "T4",
      "include_colab_link": true
    },
    "kernelspec": {
      "display_name": "Python 3",
      "name": "python3"
    },
    "language_info": {
      "name": "python"
    },
    "accelerator": "GPU"
  },
  "nbformat": 4,
  "nbformat_minor": 0
}