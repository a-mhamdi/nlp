{
  "nbformat": 4,
  "nbformat_minor": 0,
  "metadata": {
    "colab": {
      "provenance": [],
      "authorship_tag": "ABX9TyOxdxs9AS56okjaiUJb1gbF",
      "include_colab_link": true
    },
    "kernelspec": {
      "name": "python3",
      "display_name": "Python 3"
    },
    "language_info": {
      "name": "python"
    }
  },
  "cells": [
    {
      "cell_type": "markdown",
      "metadata": {
        "id": "view-in-github",
        "colab_type": "text"
      },
      "source": [
        "<a href=\"https://colab.research.google.com/github/a-mhamdi/nlp-unraveled/blob/main/04_language_models.ipynb\" target=\"_parent\"><img src=\"https://colab.research.google.com/assets/colab-badge.svg\" alt=\"Open In Colab\"/></a>"
      ]
    },
    {
      "cell_type": "markdown",
      "source": [
        "# Language Models and Pre-training\n",
        "---\n"
      ],
      "metadata": {
        "id": "pbsZWPAWoDLC"
      }
    },
    {
      "cell_type": "markdown",
      "source": [
        "## Outlines\n",
        "1. [Introduction to language models](#intro-lang-mdl)\n",
        "1. [GPT-style architectures](#gpt-style-arch)\n",
        "1. [Fine-tuning pre-trained models](#file-tuning)\n",
        "1. [Transfer learning in NLP](#transfer-learning)\n",
        "\n"
      ],
      "metadata": {
        "id": "vpPVMH8WoDNR"
      }
    },
    {
      "cell_type": "markdown",
      "source": [
        "## Introduction to language models <a name=\"intro-lang-mdl\"></a>\n"
      ],
      "metadata": {
        "id": "L8ZDdjnYoDPm"
      }
    },
    {
      "cell_type": "markdown",
      "source": [
        "## GPT-style architectures <a name=\"gpt-style-arch\"></a>\n"
      ],
      "metadata": {
        "id": "leKhzoZ_oDSG"
      }
    },
    {
      "cell_type": "markdown",
      "source": [
        "## Fine-tuning pre-trained models <a name=\"file-tuning\"></a>\n"
      ],
      "metadata": {
        "id": "sWlvXNDioDUg"
      }
    },
    {
      "cell_type": "markdown",
      "source": [
        "## Transfer learning in NLP <a name=\"transfer-learning\"></a>"
      ],
      "metadata": {
        "id": "VRjJup-XoDW3"
      }
    }
  ]
}