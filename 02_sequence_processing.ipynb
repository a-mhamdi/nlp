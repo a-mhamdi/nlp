{
  "nbformat": 4,
  "nbformat_minor": 0,
  "metadata": {
    "colab": {
      "provenance": [],
      "authorship_tag": "ABX9TyODvsmlddGkBQJJ43IQvWAJ",
      "include_colab_link": true
    },
    "kernelspec": {
      "name": "python3",
      "display_name": "Python 3"
    },
    "language_info": {
      "name": "python"
    }
  },
  "cells": [
    {
      "cell_type": "markdown",
      "metadata": {
        "id": "view-in-github",
        "colab_type": "text"
      },
      "source": [
        "<a href=\"https://colab.research.google.com/github/a-mhamdi/nlp-unraveled/blob/main/02_sequence_processing.ipynb\" target=\"_parent\"><img src=\"https://colab.research.google.com/assets/colab-badge.svg\" alt=\"Open In Colab\"/></a>"
      ]
    },
    {
      "cell_type": "markdown",
      "source": [
        "# Sequence Processing Foundations\n",
        "---\n",
        "\n"
      ],
      "metadata": {
        "id": "wLCT9OimVn2h"
      }
    },
    {
      "cell_type": "markdown",
      "source": [
        "## Outlines\n",
        "1. [Recurrent Neural Network (RNN)](#rnn)\n",
        "1. [Long Short-Term Memory (LSTM) Network](#lstm)\n",
        "1. [Gated Recurrent Unit (GRU)](#gru)\n",
        "1. [Sequence Classfication and Generation](#seq-class-gen)"
      ],
      "metadata": {
        "id": "fX1tauS5i-0i"
      }
    },
    {
      "cell_type": "markdown",
      "source": [
        "## Recurrent Neural Network (RNN) <a name=\"rnn\"></a>\n"
      ],
      "metadata": {
        "id": "YzfLft7sVwD_"
      }
    },
    {
      "cell_type": "markdown",
      "source": [
        "## Long Short-Term Memory (LSTM) Network <a name=\"lstm\"></a>\n"
      ],
      "metadata": {
        "id": "O6oj_IKsVwLj"
      }
    },
    {
      "cell_type": "markdown",
      "source": [
        "## Gated Recurrent Unit (GRU) <a name=\"gru\"></a>\n"
      ],
      "metadata": {
        "id": "dWou2XNqVwOR"
      }
    },
    {
      "cell_type": "markdown",
      "source": [
        "## Sequence Classification and Generation <a name=\"seq-class-gen\"></a>"
      ],
      "metadata": {
        "id": "x33q8YSWVwRK"
      }
    }
  ]
}