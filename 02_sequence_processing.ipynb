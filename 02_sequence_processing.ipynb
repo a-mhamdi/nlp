{
  "nbformat": 4,
  "nbformat_minor": 0,
  "metadata": {
    "colab": {
      "provenance": [],
      "authorship_tag": "ABX9TyMLHBgdGV9bFIiEsFocC9Q7",
      "include_colab_link": true
    },
    "kernelspec": {
      "name": "python3",
      "display_name": "Python 3"
    },
    "language_info": {
      "name": "python"
    }
  },
  "cells": [
    {
      "cell_type": "markdown",
      "metadata": {
        "id": "view-in-github",
        "colab_type": "text"
      },
      "source": [
        "<a href=\"https://colab.research.google.com/github/a-mhamdi/nlp-unraveled/blob/main/02_sequence_processing.ipynb\" target=\"_parent\"><img src=\"https://colab.research.google.com/assets/colab-badge.svg\" alt=\"Open In Colab\"/></a>"
      ]
    },
    {
      "cell_type": "markdown",
      "source": [
        "# Sequence Processing Foundations\n",
        "\n"
      ],
      "metadata": {
        "id": "wLCT9OimVn2h"
      }
    },
    {
      "cell_type": "markdown",
      "source": [
        "## Recurrent Neural Networks (RNNs)\n"
      ],
      "metadata": {
        "id": "YzfLft7sVwD_"
      }
    },
    {
      "cell_type": "markdown",
      "source": [
        "## Long Short-Term Memory (LSTM) networks\n"
      ],
      "metadata": {
        "id": "O6oj_IKsVwLj"
      }
    },
    {
      "cell_type": "markdown",
      "source": [
        "## Gated Recurrent Units (GRUs)\n"
      ],
      "metadata": {
        "id": "dWou2XNqVwOR"
      }
    },
    {
      "cell_type": "markdown",
      "source": [
        "## Sequence classification and generation"
      ],
      "metadata": {
        "id": "x33q8YSWVwRK"
      }
    }
  ]
}