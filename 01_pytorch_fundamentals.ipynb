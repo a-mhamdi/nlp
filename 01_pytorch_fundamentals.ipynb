{
 "cells": [
  {
   "cell_type": "markdown",
   "metadata": {
    "colab_type": "text",
    "id": "view-in-github"
   },
   "source": [
    "<a href=\"https://colab.research.google.com/github/a-mhamdi/nlp-unraveled/blob/main/01_pytorch_fundamentals.ipynb\" target=\"_parent\"><img src=\"https://colab.research.google.com/assets/colab-badge.svg\" alt=\"Open In Colab\"/></a>"
   ]
  },
  {
   "cell_type": "markdown",
   "metadata": {
    "id": "UyfVRbrMUZQN"
   },
   "source": [
    "# Fundamentals and Basic Neural Networks\n",
    "---"
   ]
  },
  {
   "cell_type": "markdown",
   "metadata": {
    "id": "W9w-bjaZgqZd"
   },
   "source": [
    "**Outlines**\n",
    "1. [Introduction to `PyTorch`](#intro)\n",
    "1. [Tensor operation](#tensor-ops)\n",
    "1. [Basic neural network architectures](#nn-arch)\n",
    "1. [Autograd and gradient computation](#grad)\n",
    "1. [Simple classification tasks](#tasks)"
   ]
  },
  {
   "cell_type": "markdown",
   "metadata": {
    "id": "UvIX6opYUDEN"
   },
   "source": [
    "## Introduction to `PyTorch` <a name=\"intro\"></a>\n"
   ]
  },
  {
   "cell_type": "markdown",
   "metadata": {},
   "source": [
    "## Tensor operations <a name=\"tensor-ops\"></a>\n"
   ]
  },
  {
   "cell_type": "markdown",
   "metadata": {
    "id": "oloHz0sfUMmC"
   },
   "source": [
    "## Basic neural network architectures <a name=\"nn-arch\"></a>\n"
   ]
  },
  {
   "cell_type": "markdown",
   "metadata": {
    "id": "5SMAhd21UQJR"
   },
   "source": [
    "## Autograd and gradient computation <a name=\"grad\"></a>"
   ]
  },
  {
   "cell_type": "markdown",
   "metadata": {
    "id": "Flmh1qToUeXn"
   },
   "source": [
    "## Simple classification tasks <a name=\"tasks\"></a>"
   ]
  }
 ],
 "metadata": {
  "colab": {
   "authorship_tag": "ABX9TyOsCpGMcyHHcc2mb3Uku7hx",
   "include_colab_link": true,
   "provenance": []
  },
  "kernelspec": {
   "display_name": "Python 3",
   "name": "python3"
  },
  "language_info": {
   "name": "python"
  }
 },
 "nbformat": 4,
 "nbformat_minor": 0
}
