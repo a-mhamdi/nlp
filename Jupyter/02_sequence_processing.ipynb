{
 "cells": [
  {
   "cell_type": "markdown",
   "metadata": {
    "colab_type": "text",
    "id": "view-in-github"
   },
   "source": [
    "<a href=\"https://colab.research.google.com/github/a-mhamdi/nlp-unraveled/blob/main/02_sequence_processing.ipynb\" target=\"_parent\"><img src=\"https://colab.research.google.com/assets/colab-badge.svg\" alt=\"Open In Colab\"/></a>"
   ]
  },
  {
   "cell_type": "markdown",
   "metadata": {
    "id": "wLCT9OimVn2h"
   },
   "source": [
    "# Sequence Processing Foundations\n",
    "---\n",
    "\n"
   ]
  },
  {
   "cell_type": "markdown",
   "metadata": {
    "id": "fX1tauS5i-0i"
   },
   "source": [
    "## Outlines\n",
    "1. [Recurrent neural network (RNN)](#rnn)\n",
    "1. [Long short-term memory (LSTM) Network](#lstm)\n",
    "1. [Gated recurrent unit (GRU)](#gru)\n",
    "1. [Sequence classfication and generation](#seq-class-gen)"
   ]
  },
  {
   "cell_type": "markdown",
   "metadata": {
    "id": "YzfLft7sVwD_"
   },
   "source": [
    "## Recurrent neural network (RNN) <a name=\"rnn\"></a>\n"
   ]
  },
  {
   "cell_type": "markdown",
   "metadata": {
    "id": "O6oj_IKsVwLj"
   },
   "source": [
    "## Long short-term memory (LSTM) Network <a name=\"lstm\"></a>\n"
   ]
  },
  {
   "cell_type": "markdown",
   "metadata": {
    "id": "dWou2XNqVwOR"
   },
   "source": [
    "## Gated recurrent unit (GRU) <a name=\"gru\"></a>\n"
   ]
  },
  {
   "cell_type": "markdown",
   "metadata": {
    "id": "x33q8YSWVwRK"
   },
   "source": [
    "## Sequence classification and generation <a name=\"seq-class-gen\"></a>"
   ]
  }
 ],
 "metadata": {
  "colab": {
   "authorship_tag": "ABX9TyODvsmlddGkBQJJ43IQvWAJ",
   "include_colab_link": true,
   "provenance": []
  },
  "kernelspec": {
   "display_name": "Python 3",
   "name": "python3"
  },
  "language_info": {
   "name": "python"
  }
 },
 "nbformat": 4,
 "nbformat_minor": 0
}
