{
 "cells": [
  {
   "cell_type": "markdown",
   "metadata": {
    "colab_type": "text",
    "id": "view-in-github"
   },
   "source": [
    "<a href=\"https://colab.research.google.com/github/a-mhamdi/nlp-unraveled/blob/main/05_text_analysis.ipynb\" target=\"_parent\"><img src=\"https://colab.research.google.com/assets/colab-badge.svg\" alt=\"Open In Colab\"/></a>"
   ]
  },
  {
   "cell_type": "markdown",
   "metadata": {
    "id": "oUsi4G5NXRlM"
   },
   "source": [
    "# Text Analysis and Advanced Techniques\n",
    "---"
   ]
  },
  {
   "cell_type": "markdown",
   "metadata": {
    "id": "DEAIzOH9X4od"
   },
   "source": [
    "**Outlines**\n",
    "----\n",
    "1. [Text classification](#text-classification)\n",
    "1. [Named entity recognition](#ner)\n",
    "1. [Sentiment analysis](#sentiment-analysis)\n",
    "1. [Word embeddings](#word-embeddings)"
   ]
  },
  {
   "cell_type": "markdown",
   "metadata": {
    "id": "wweFbAgCXSBi"
   },
   "source": [
    "## Text classification <a name=\"text-classification\"></a>\n"
   ]
  },
  {
   "cell_type": "markdown",
   "metadata": {
    "id": "p8Rbuv8sXSGk"
   },
   "source": [
    "## Named entity recognition (NER) <a name=\"ner\"></a>\n"
   ]
  },
  {
   "cell_type": "markdown",
   "metadata": {
    "id": "s4kB2dqUXnyp"
   },
   "source": [
    "## Sentiment analysis <a name=\"sentiment-analysis\"></a>\n"
   ]
  },
  {
   "cell_type": "markdown",
   "metadata": {
    "id": "b7SKKt6jXpyo"
   },
   "source": [
    "## Word embeddings <a name=\"word-embeddings\"></a>"
   ]
  }
 ],
 "metadata": {
  "colab": {
   "authorship_tag": "ABX9TyPKO3Uw5Q8Q8vlDbS8zWWUP",
   "include_colab_link": true,
   "provenance": []
  },
  "kernelspec": {
   "display_name": "Python 3",
   "name": "python3"
  },
  "language_info": {
   "name": "python"
  }
 },
 "nbformat": 4,
 "nbformat_minor": 0
}
