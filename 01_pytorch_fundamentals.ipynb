{
  "nbformat": 4,
  "nbformat_minor": 0,
  "metadata": {
    "colab": {
      "provenance": [],
      "authorship_tag": "ABX9TyOcviTUKCw+CnovvwDdWW6u",
      "include_colab_link": true
    },
    "kernelspec": {
      "name": "python3",
      "display_name": "Python 3"
    },
    "language_info": {
      "name": "python"
    }
  },
  "cells": [
    {
      "cell_type": "markdown",
      "metadata": {
        "id": "view-in-github",
        "colab_type": "text"
      },
      "source": [
        "<a href=\"https://colab.research.google.com/github/a-mhamdi/nlp-unraveled/blob/main/01_pytorch_fundamentals.ipynb\" target=\"_parent\"><img src=\"https://colab.research.google.com/assets/colab-badge.svg\" alt=\"Open In Colab\"/></a>"
      ]
    },
    {
      "cell_type": "markdown",
      "source": [
        "# Fundamentals and Basic Neural Networks"
      ],
      "metadata": {
        "id": "UyfVRbrMUZQN"
      }
    },
    {
      "cell_type": "markdown",
      "source": [
        "## Introduction to PyTorch\n"
      ],
      "metadata": {
        "id": "UvIX6opYUDEN"
      }
    },
    {
      "cell_type": "markdown",
      "source": [
        "## Basic neural network architectures\n"
      ],
      "metadata": {
        "id": "oloHz0sfUMmC"
      }
    },
    {
      "cell_type": "markdown",
      "source": [
        "## Tensor operations\n"
      ],
      "metadata": {
        "id": "Y5YiZ04TUOic"
      }
    },
    {
      "cell_type": "markdown",
      "source": [
        "## Autograd and gradient computation"
      ],
      "metadata": {
        "id": "5SMAhd21UQJR"
      }
    },
    {
      "cell_type": "markdown",
      "source": [
        "## Simple classification tasks"
      ],
      "metadata": {
        "id": "Flmh1qToUeXn"
      }
    }
  ]
}