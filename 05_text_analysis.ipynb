{
  "cells": [
    {
      "cell_type": "markdown",
      "metadata": {
        "id": "view-in-github",
        "colab_type": "text"
      },
      "source": [
        "<a href=\"https://colab.research.google.com/github/a-mhamdi/nlp-unraveled/blob/main/05_text_analysis.ipynb\" target=\"_parent\"><img src=\"https://colab.research.google.com/assets/colab-badge.svg\" alt=\"Open In Colab\"/></a>"
      ]
    },
    {
      "cell_type": "markdown",
      "metadata": {
        "id": "oUsi4G5NXRlM"
      },
      "source": [
        "# Text Analysis and Advanced Techniques\n",
        "---"
      ]
    },
    {
      "cell_type": "markdown",
      "metadata": {
        "id": "DEAIzOH9X4od"
      },
      "source": [
        "**Outlines**\n",
        "----\n",
        "1. [Text classification](#text-classification)\n",
        "1. [Named entity recognition](#ner)\n",
        "1. [Sentiment analysis](#sentiment-analysis)\n",
        "1. [Word embeddings](#word-embeddings)"
      ]
    },
    {
      "cell_type": "markdown",
      "metadata": {
        "id": "wweFbAgCXSBi"
      },
      "source": [
        "## Text classification <a name=\"text-classification\"></a>\n"
      ]
    },
    {
      "cell_type": "markdown",
      "metadata": {
        "id": "p8Rbuv8sXSGk"
      },
      "source": [
        "## Named entity recognition (NER) <a name=\"ner\"></a>\n"
      ]
    },
    {
      "cell_type": "markdown",
      "metadata": {
        "id": "s4kB2dqUXnyp"
      },
      "source": [
        "## Sentiment analysis <a name=\"sentiment-analysis\"></a>\n"
      ]
    },
    {
      "cell_type": "code",
      "source": [
        "import torch\n",
        "import torch.nn as nn\n",
        "import torch.optim as optim\n",
        "from torch.utils.data import Dataset, DataLoader\n",
        "from collections import Counter\n",
        "import numpy as np"
      ],
      "metadata": {
        "id": "sHO6ucoBhBxV"
      },
      "execution_count": 1,
      "outputs": []
    },
    {
      "cell_type": "code",
      "source": [
        "texts = [\n",
        "    \"this movie was fantastic and I loved it\",\n",
        "    \"terrible waste of time\",\n",
        "    \"great performance by all actors\",\n",
        "    \"I really hated this show\",\n",
        "    \"amazing plot and great acting\",\n",
        "    \"worst movie ever\",\n",
        "    \"absolutely brilliant\",\n",
        "    \"completely disappointed\",\n",
        "]\n",
        "labels = [1, 0, 1, 0, 1, 0, 1, 0]  # 1: positive, 0: negative"
      ],
      "metadata": {
        "id": "3r969MJhfnVF"
      },
      "execution_count": 2,
      "outputs": []
    },
    {
      "cell_type": "code",
      "source": [
        "# Vocabulary processing\n",
        "class Vocabulary:\n",
        "    def __init__(self, texts):\n",
        "        # Create word to index mapping\n",
        "        words = ' '.join(texts).lower().split()\n",
        "        word_counts = Counter(words)\n",
        "        # Add special tokens\n",
        "        self.word2idx = {'<PAD>': 0, '<UNK>': 1}\n",
        "        # Add words that appear at least twice\n",
        "        for word, count in word_counts.items():\n",
        "            if count >= 1 and word not in self.word2idx:\n",
        "                self.word2idx[word] = len(self.word2idx)\n",
        "        self.idx2word = {v: k for k, v in self.word2idx.items()}\n",
        "\n",
        "    def text_to_indices(self, text, max_length=10):\n",
        "        # Convert text to indices and pad\n",
        "        words = text.lower().split()\n",
        "        indices = [self.word2idx.get(word, self.word2idx['<UNK>']) for word in words]\n",
        "        if len(indices) < max_length:\n",
        "            indices += [self.word2idx['<PAD>']] * (max_length - len(indices))\n",
        "        else:\n",
        "            indices = indices[:max_length]\n",
        "        return indices"
      ],
      "metadata": {
        "id": "okyKNyb9fmW2"
      },
      "execution_count": 3,
      "outputs": []
    },
    {
      "cell_type": "code",
      "source": [
        "# Create dataset class\n",
        "class TextClassificationDataset(Dataset):\n",
        "    def __init__(self, texts, labels, vocab):\n",
        "        self.texts = texts\n",
        "        self.labels = labels\n",
        "        self.vocab = vocab\n",
        "\n",
        "    def __len__(self):\n",
        "        return len(self.texts)\n",
        "\n",
        "    def __getitem__(self, idx):\n",
        "        text = self.texts[idx]\n",
        "        label = self.labels[idx]\n",
        "        indices = self.vocab.text_to_indices(text)\n",
        "        return torch.tensor(indices), torch.tensor(label, dtype=torch.float32)"
      ],
      "metadata": {
        "id": "p0-UWWYYflG0"
      },
      "execution_count": 4,
      "outputs": []
    },
    {
      "cell_type": "code",
      "source": [
        "# Create vocabulary and dataset\n",
        "vocab = Vocabulary(texts)\n",
        "dataset = TextClassificationDataset(texts, labels, vocab)\n",
        "dataloader = DataLoader(dataset, batch_size=2, shuffle=True)"
      ],
      "metadata": {
        "id": "EG6xSHHEfgNH"
      },
      "execution_count": 5,
      "outputs": []
    },
    {
      "cell_type": "code",
      "source": [
        "# Define the model\n",
        "class SimpleTextClassifier(nn.Module):\n",
        "    def __init__(self, vocab_size, embedding_dim, hidden_dim):\n",
        "        super(SimpleTextClassifier, self).__init__()\n",
        "        self.embedding = nn.Embedding(vocab_size, embedding_dim, padding_idx=0)\n",
        "        self.lstm = nn.LSTM(embedding_dim, hidden_dim, batch_first=True)\n",
        "        self.fc = nn.Linear(hidden_dim, 1)\n",
        "        self.sigmoid = nn.Sigmoid()\n",
        "\n",
        "    def forward(self, x):\n",
        "        embedded = self.embedding(x)\n",
        "        lstm_out, (hidden, cell) = self.lstm(embedded)\n",
        "        # Use the last hidden state\n",
        "        out = self.fc(hidden[-1])\n",
        "        out = self.sigmoid(out)\n",
        "        return out.squeeze()"
      ],
      "metadata": {
        "id": "q4qE0i08fjcE"
      },
      "execution_count": 6,
      "outputs": []
    },
    {
      "cell_type": "code",
      "source": [
        "# Initialize model, loss function, and optimizer\n",
        "model = SimpleTextClassifier(\n",
        "    vocab_size=len(vocab.word2idx),\n",
        "    embedding_dim=50,\n",
        "    hidden_dim=20\n",
        ")\n",
        "criterion = nn.BCELoss()\n",
        "optimizer = optim.Adam(model.parameters(), lr=0.01)"
      ],
      "metadata": {
        "id": "ITlhInrkfe1a"
      },
      "execution_count": 7,
      "outputs": []
    },
    {
      "cell_type": "code",
      "source": [
        "# Training loop\n",
        "num_epochs = 100\n",
        "for epoch in range(num_epochs):\n",
        "    total_loss = 0\n",
        "    for batch_texts, batch_labels in dataloader:\n",
        "        # Forward pass\n",
        "        outputs = model(batch_texts)\n",
        "        loss = criterion(outputs, batch_labels)\n",
        "\n",
        "        # Backward pass and optimization\n",
        "        optimizer.zero_grad()\n",
        "        loss.backward()\n",
        "        optimizer.step()\n",
        "\n",
        "        total_loss += loss.item()\n",
        "\n",
        "    # Print progress every 10 epochs\n",
        "    if (epoch + 1) % 10 == 0:\n",
        "        print(f'Epoch [{epoch+1}/{num_epochs}], Loss: {total_loss/len(dataloader):.4f}')"
      ],
      "metadata": {
        "id": "dynKIRZqfdSR",
        "outputId": "26cbb744-a7f8-4d8d-fb64-6e087213b03a",
        "colab": {
          "base_uri": "https://localhost:8080/"
        }
      },
      "execution_count": 8,
      "outputs": [
        {
          "output_type": "stream",
          "name": "stdout",
          "text": [
            "Epoch [10/100], Loss: 0.0169\n",
            "Epoch [20/100], Loss: 0.0021\n",
            "Epoch [30/100], Loss: 0.0013\n",
            "Epoch [40/100], Loss: 0.0009\n",
            "Epoch [50/100], Loss: 0.0007\n",
            "Epoch [60/100], Loss: 0.0005\n",
            "Epoch [70/100], Loss: 0.0004\n",
            "Epoch [80/100], Loss: 0.0004\n",
            "Epoch [90/100], Loss: 0.0003\n",
            "Epoch [100/100], Loss: 0.0003\n"
          ]
        }
      ]
    },
    {
      "cell_type": "code",
      "source": [
        "# Test the model\n",
        "def predict_sentiment(text):\n",
        "    model.eval()\n",
        "    with torch.no_grad():\n",
        "        indices = vocab.text_to_indices(text)\n",
        "        input_tensor = torch.tensor([indices])\n",
        "        output = model(input_tensor)\n",
        "        prediction = \"Positive\" if output.item() > 0.5 else \"Negative\"\n",
        "        confidence = max(output.item(), 1 - output.item())\n",
        "        return prediction, confidence"
      ],
      "metadata": {
        "id": "mfZqRpXRfbsW"
      },
      "execution_count": 9,
      "outputs": []
    },
    {
      "cell_type": "code",
      "source": [
        "# Example predictions\n",
        "test_texts = [\n",
        "    \"this was really good\",\n",
        "    \"I did not enjoy it at all\",\n",
        "    \"amazing performance\"\n",
        "]\n",
        "\n",
        "print(\"\\nTest Predictions:\")\n",
        "for text in test_texts:\n",
        "    prediction, confidence = predict_sentiment(text)\n",
        "    print(f\"Text: {text}\")\n",
        "    print(f\"Prediction: {prediction} (confidence: {confidence:.2f})\\n\")"
      ],
      "metadata": {
        "id": "jA9pbI9YfahC",
        "outputId": "e3e9f944-ef85-413e-90d3-21fa9d506466",
        "colab": {
          "base_uri": "https://localhost:8080/"
        }
      },
      "execution_count": 10,
      "outputs": [
        {
          "output_type": "stream",
          "name": "stdout",
          "text": [
            "\n",
            "Test Predictions:\n",
            "Text: this was really good\n",
            "Prediction: Positive (confidence: 1.00)\n",
            "\n",
            "Text: I did not enjoy it at all\n",
            "Prediction: Positive (confidence: 1.00)\n",
            "\n",
            "Text: amazing performance\n",
            "Prediction: Positive (confidence: 1.00)\n",
            "\n"
          ]
        }
      ]
    },
    {
      "cell_type": "markdown",
      "metadata": {
        "id": "b7SKKt6jXpyo"
      },
      "source": [
        "## Word embeddings <a name=\"word-embeddings\"></a>"
      ]
    }
  ],
  "metadata": {
    "colab": {
      "provenance": [],
      "include_colab_link": true
    },
    "kernelspec": {
      "display_name": "Python 3",
      "name": "python3"
    },
    "language_info": {
      "name": "python"
    }
  },
  "nbformat": 4,
  "nbformat_minor": 0
}