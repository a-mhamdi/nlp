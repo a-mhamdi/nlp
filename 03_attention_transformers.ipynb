{
 "cells": [
  {
   "cell_type": "markdown",
   "metadata": {
    "colab_type": "text",
    "id": "view-in-github"
   },
   "source": [
    "<a href=\"https://colab.research.google.com/github/a-mhamdi/nlp-unraveled/blob/main/03_attention_transformers.ipynb\" target=\"_parent\"><img src=\"https://colab.research.google.com/assets/colab-badge.svg\" alt=\"Open In Colab\"/></a>"
   ]
  },
  {
   "cell_type": "markdown",
   "metadata": {
    "id": "eg966paXWOH4"
   },
   "source": [
    "# Attention Mechanisms and Advanced Architectures\n",
    "---"
   ]
  },
  {
   "cell_type": "markdown",
   "metadata": {
    "id": "rT8Lvkumkemg"
   },
   "source": [
    "## Outlines\n",
    "1. [Attention mechanisms](#att-mech)\n",
    "1. [Transformer architecture basics](#transform-arch)\n",
    "1. [Self-attention](#self-att)\n",
    "1. [Multi-head attention](#multi-head-attention)"
   ]
  },
  {
   "cell_type": "markdown",
   "metadata": {
    "id": "I8GIXxZqWO1E"
   },
   "source": [
    "## Attention mechanisms <a name=\"att-mech\"></a>\n"
   ]
  },
  {
   "cell_type": "markdown",
   "metadata": {
    "id": "OixXtHbHWO-D"
   },
   "source": [
    "## Transformer architecture basics <a name=\"transform-arch\"></a>\n"
   ]
  },
  {
   "cell_type": "markdown",
   "metadata": {
    "id": "k7uaFhz9WPHA"
   },
   "source": [
    "## Self-attention <a name=\"self-att\"></a>\n"
   ]
  },
  {
   "cell_type": "markdown",
   "metadata": {
    "id": "PfcPc8nKWPUu"
   },
   "source": [
    "## Multi-head attention <a name=\"multi-head-attention\"></a>"
   ]
  }
 ],
 "metadata": {
  "colab": {
   "authorship_tag": "ABX9TyPK+qAv5vn1YB0WFALU0+zR",
   "include_colab_link": true,
   "provenance": []
  },
  "kernelspec": {
   "display_name": "Python 3",
   "name": "python3"
  },
  "language_info": {
   "name": "python"
  }
 },
 "nbformat": 4,
 "nbformat_minor": 0
}
