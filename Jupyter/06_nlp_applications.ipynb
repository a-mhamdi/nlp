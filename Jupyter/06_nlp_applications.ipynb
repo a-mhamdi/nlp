{
 "cells": [
  {
   "cell_type": "markdown",
   "metadata": {
    "colab_type": "text",
    "id": "view-in-github"
   },
   "source": [
    "<a href=\"https://colab.research.google.com/github/a-mhamdi/nlp-unraveled/blob/main/06_nlp_applications.ipynb\" target=\"_parent\"><img src=\"https://colab.research.google.com/assets/colab-badge.svg\" alt=\"Open In Colab\"/></a>"
   ]
  },
  {
   "cell_type": "markdown",
   "metadata": {
    "id": "NWtxogbNYnNS"
   },
   "source": [
    "# Advanced NLP Applications\n",
    "---\n"
   ]
  },
  {
   "cell_type": "markdown",
   "metadata": {
    "id": "6cBhdRc4ZAJe"
   },
   "source": [
    "**Outlines**\n",
    "1. [Machine translation](#translation)\n",
    "1. [Text generation](#text-gen)\n",
    "1. [Summarization](#summarization)\n",
    "1. [QA systems](#qa)"
   ]
  },
  {
   "cell_type": "markdown",
   "metadata": {
    "id": "3dimTx-rYnRF"
   },
   "source": [
    "## Machine translation <a name=\"translation\"></a>\n"
   ]
  },
  {
   "cell_type": "markdown",
   "metadata": {
    "id": "KjVjlYBRYnhx"
   },
   "source": [
    "## Text generation <a name=\"text-gen\"></a>\n"
   ]
  },
  {
   "cell_type": "markdown",
   "metadata": {
    "id": "QSt0myNLYnqJ"
   },
   "source": [
    "## Summarization <a name=\"summarization\"></a>\n"
   ]
  },
  {
   "cell_type": "markdown",
   "metadata": {
    "id": "ehYLkfpUYnun"
   },
   "source": [
    "## QA systems <a name=\"qa\"></a>"
   ]
  }
 ],
 "metadata": {
  "colab": {
   "authorship_tag": "ABX9TyOqPJPEUdXyklZupmCO896Y",
   "include_colab_link": true,
   "provenance": []
  },
  "kernelspec": {
   "display_name": "Python 3",
   "name": "python3"
  },
  "language_info": {
   "name": "python"
  }
 },
 "nbformat": 4,
 "nbformat_minor": 0
}
