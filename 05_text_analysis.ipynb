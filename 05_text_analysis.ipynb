{
  "nbformat": 4,
  "nbformat_minor": 0,
  "metadata": {
    "colab": {
      "provenance": [],
      "authorship_tag": "ABX9TyOtTCYMQ0oXTsDZsFYVqXRq",
      "include_colab_link": true
    },
    "kernelspec": {
      "name": "python3",
      "display_name": "Python 3"
    },
    "language_info": {
      "name": "python"
    }
  },
  "cells": [
    {
      "cell_type": "markdown",
      "metadata": {
        "id": "view-in-github",
        "colab_type": "text"
      },
      "source": [
        "<a href=\"https://colab.research.google.com/github/a-mhamdi/nlp-unraveled/blob/main/05_text_analysis.ipynb\" target=\"_parent\"><img src=\"https://colab.research.google.com/assets/colab-badge.svg\" alt=\"Open In Colab\"/></a>"
      ]
    },
    {
      "cell_type": "markdown",
      "source": [
        "# Text Analysis and Advanced Techniques"
      ],
      "metadata": {
        "id": "oUsi4G5NXRlM"
      }
    },
    {
      "cell_type": "markdown",
      "source": [
        "**Outlines**\n",
        "---\n",
        "***\n",
        "---"
      ],
      "metadata": {
        "id": "DEAIzOH9X4od"
      }
    },
    {
      "cell_type": "markdown",
      "source": [
        "## Text classification\n"
      ],
      "metadata": {
        "id": "wweFbAgCXSBi"
      }
    },
    {
      "cell_type": "markdown",
      "source": [
        "## Named Entity Recognition (NER)\n"
      ],
      "metadata": {
        "id": "p8Rbuv8sXSGk"
      }
    },
    {
      "cell_type": "markdown",
      "source": [
        "## Sentiment analysis\n"
      ],
      "metadata": {
        "id": "s4kB2dqUXnyp"
      }
    },
    {
      "cell_type": "markdown",
      "source": [
        "## Word embeddings"
      ],
      "metadata": {
        "id": "b7SKKt6jXpyo"
      }
    }
  ]
}