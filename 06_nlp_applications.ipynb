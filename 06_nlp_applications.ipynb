{
  "nbformat": 4,
  "nbformat_minor": 0,
  "metadata": {
    "colab": {
      "provenance": [],
      "authorship_tag": "ABX9TyOqPJPEUdXyklZupmCO896Y",
      "include_colab_link": true
    },
    "kernelspec": {
      "name": "python3",
      "display_name": "Python 3"
    },
    "language_info": {
      "name": "python"
    }
  },
  "cells": [
    {
      "cell_type": "markdown",
      "metadata": {
        "id": "view-in-github",
        "colab_type": "text"
      },
      "source": [
        "<a href=\"https://colab.research.google.com/github/a-mhamdi/nlp-unraveled/blob/main/06_nlp_applications.ipynb\" target=\"_parent\"><img src=\"https://colab.research.google.com/assets/colab-badge.svg\" alt=\"Open In Colab\"/></a>"
      ]
    },
    {
      "cell_type": "markdown",
      "source": [
        "# Advanced NLP Applications\n",
        "---\n"
      ],
      "metadata": {
        "id": "NWtxogbNYnNS"
      }
    },
    {
      "cell_type": "markdown",
      "source": [
        "**Outlines**\n",
        "1. [Machine Translation](#translation)\n",
        "1. [Text Generation](#text-gen)\n",
        "1. [Summarization](#summarization)\n",
        "1. [QA Systems](#qa)"
      ],
      "metadata": {
        "id": "6cBhdRc4ZAJe"
      }
    },
    {
      "cell_type": "markdown",
      "source": [
        "## Machine Translation <a name=\"translation\"></a>\n"
      ],
      "metadata": {
        "id": "3dimTx-rYnRF"
      }
    },
    {
      "cell_type": "markdown",
      "source": [
        "## Text Generation <a name=\"text-gen\"></a>\n"
      ],
      "metadata": {
        "id": "KjVjlYBRYnhx"
      }
    },
    {
      "cell_type": "markdown",
      "source": [
        "## Summarization <a name=\"summarization\"></a>\n"
      ],
      "metadata": {
        "id": "QSt0myNLYnqJ"
      }
    },
    {
      "cell_type": "markdown",
      "source": [
        "## QA Systems <a name=\"qa\"></a>"
      ],
      "metadata": {
        "id": "ehYLkfpUYnun"
      }
    }
  ]
}